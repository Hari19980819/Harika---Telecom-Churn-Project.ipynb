{
  "nbformat": 4,
  "nbformat_minor": 0,
  "metadata": {
    "colab": {
      "private_outputs": true,
      "provenance": [],
      "collapsed_sections": [
        "vncDsAP0Gaoa",
        "FJNUwmbgGyua",
        "w6K7xa23Elo4",
        "yQaldy8SH6Dl",
        "PH-0ReGfmX4f",
        "mDgbUHAGgjLW",
        "O_i_v8NEhb9l",
        "HhfV-JJviCcP",
        "Y3lxredqlCYt",
        "3RnN4peoiCZX",
        "x71ZqKXriCWQ",
        "7hBIi_osiCS2",
        "JlHwYmJAmNHm",
        "35m5QtbWiB9F",
        "PoPl-ycgm1ru",
        "H0kj-8xxnORC",
        "nA9Y7ga8ng1Z",
        "PBTbrJXOngz2",
        "u3PMJOP6ngxN",
        "dauF4eBmngu3",
        "bKJF3rekwFvQ",
        "MSa1f5Uengrz",
        "GF8Ens_Soomf",
        "0wOQAZs5pc--",
        "K5QZ13OEpz2H",
        "lQ7QKXXCp7Bj",
        "448CDAPjqfQr",
        "KSlN3yHqYklG",
        "t6dVpIINYklI",
        "ijmpgYnKYklI",
        "-JiQyfWJYklI",
        "EM7whBJCYoAo",
        "fge-S5ZAYoAp",
        "85gYPyotYoAp",
        "RoGjAbkUYoAp",
        "4Of9eVA-YrdM",
        "iky9q4vBYrdO",
        "F6T5p64dYrdO",
        "y-Ehk30pYrdP",
        "bamQiAODYuh1",
        "QHF8YVU7Yuh3",
        "GwzvFGzlYuh3",
        "qYpmQ266Yuh3",
        "OH-pJp9IphqM",
        "bbFf2-_FphqN",
        "_ouA3fa0phqN",
        "Seke61FWphqN",
        "PIIx-8_IphqN",
        "t27r6nlMphqO",
        "r2jJGEOYphqO",
        "b0JNsNcRphqO",
        "BZR9WyysphqO",
        "jj7wYXLtphqO",
        "eZrbJ2SmphqO",
        "rFu4xreNphqO",
        "YJ55k-q6phqO",
        "gCFgpxoyphqP",
        "OVtJsKN_phqQ",
        "lssrdh5qphqQ",
        "U2RJ9gkRphqQ",
        "1M8mcRywphqQ",
        "tgIPom80phqQ",
        "JMzcOPDDphqR",
        "x-EpHcCOp1ci",
        "X_VqEhTip1ck",
        "8zGJKyg5p1ck",
        "PVzmfK_Ep1ck",
        "n3dbpmDWp1ck",
        "ylSl6qgtp1ck",
        "ZWILFDl5p1ck",
        "M7G43BXep1ck",
        "Ag9LCva-p1cl",
        "E6MkPsBcp1cl",
        "2cELzS2fp1cl",
        "3MPXvC8up1cl",
        "NC_X3p0fY2L0",
        "UV0SzAkaZNRQ",
        "YPEH6qLeZNRQ",
        "q29F0dvdveiT",
        "EXh0U9oCveiU",
        "22aHeOlLveiV",
        "JcMwzZxoAimU",
        "8G2x9gOozGDZ",
        "gCX9965dhzqZ",
        "gIfDvo9L0UH2"
      ]
    },
    "kernelspec": {
      "name": "python3",
      "display_name": "Python 3"
    },
    "language_info": {
      "name": "python"
    }
  },
  "cells": [
    {
      "cell_type": "markdown",
      "source": [
        "# **Project Name**    -  **Telecom Churn Analysis**\n",
        "\n"
      ],
      "metadata": {
        "id": "vncDsAP0Gaoa"
      }
    },
    {
      "cell_type": "markdown",
      "source": [
        "##### **Project Type**    - EDA\n",
        "##### **Contribution**    - Individual\n",
        ""
      ],
      "metadata": {
        "id": "beRrZCGUAJYm"
      }
    },
    {
      "cell_type": "markdown",
      "source": [
        "#**Project Summary -**\n",
        "\n",
        ""
      ],
      "metadata": {
        "id": "FJNUwmbgGyua"
      }
    },
    {
      "cell_type": "markdown",
      "source": [
        "Customer churn is a big problem in any industry and one of the most important concerns for the Telecom industry. The effect on the revenues of the companies, because of this customer churns is huge, especially in the telecom field, that's why these companies are seeking to develop a predictive potential customer churn. In this highly competitive market, the telecommunications industry experiences an average of 15-25% annual churn rate, and it costs 5-10 times more to acquire a new customer than to retain an existing one, that's why customer retention has now become even more important than customer acquisition.**\n",
        "\n",
        "Therefore, finding those factors that increase customer churn is important to take necessary actions to reduce this churn. The main goal of our project is to develop an understanding of the cause of customer churn which assists telecom operators to predict customers who are most likely subject to churn, and what to do to retain the most valuable customer."
      ],
      "metadata": {
        "id": "F6v_1wHtG2nS"
      }
    },
    {
      "cell_type": "markdown",
      "source": [
        "# **GitHub Link -**"
      ],
      "metadata": {
        "id": "w6K7xa23Elo4"
      }
    },
    {
      "cell_type": "markdown",
      "source": [
        "Provide your GitHub Link here."
      ],
      "metadata": {
        "id": "h1o69JH3Eqqn"
      }
    },
    {
      "cell_type": "markdown",
      "source": [
        "#### **Define Your Business Objective?**"
      ],
      "metadata": {
        "id": "PH-0ReGfmX4f"
      }
    },
    {
      "cell_type": "markdown",
      "source": [
        "**Maximize:** Company's profit by retaining customer\n",
        "\n",
        " **Minimize:** Customer churn by identifying the key cause of the problem\n",
        "\n",
        "Finding factors and cause those influence customers to churn.\n",
        "\n",
        "Retain churn customers by taking appropriate steps\n",
        "\n",
        "Providing offers based on affecting factors."
      ],
      "metadata": {
        "id": "PhDvGCAqmjP1"
      }
    },
    {
      "cell_type": "markdown",
      "source": [
        "# ***Let's Begin !***"
      ],
      "metadata": {
        "id": "O_i_v8NEhb9l"
      }
    },
    {
      "cell_type": "markdown",
      "source": [
        "#**Loading data and Importing modules**"
      ],
      "metadata": {
        "id": "GXImwFEEI8kw"
      }
    },
    {
      "cell_type": "code",
      "source": [
        "# Import libraries\n",
        "import pandas as pd\n",
        "import numpy as np\n",
        "#import visualization libraries\n",
        "import seaborn as sns\n",
        "import matplotlib.pyplot as plt\n",
        "%matplotlib inline\n"
      ],
      "metadata": {
        "id": "N8V88ytzI5Wf"
      },
      "execution_count": null,
      "outputs": []
    },
    {
      "cell_type": "code",
      "source": [
        "# Mount the drive\n",
        "from google.colab import drive\n",
        "drive.mount('/content/drive')"
      ],
      "metadata": {
        "id": "v-t-bB-3JyzW"
      },
      "execution_count": null,
      "outputs": []
    },
    {
      "cell_type": "code",
      "source": [
        "# Import data files\n",
        "df=pd.read_csv('/content/Telecom Churn.csv')"
      ],
      "metadata": {
        "id": "L6Gv0G2-KC2n"
      },
      "execution_count": null,
      "outputs": []
    },
    {
      "cell_type": "markdown",
      "source": [
        "## ***1. Know Your Data***"
      ],
      "metadata": {
        "id": "HhfV-JJviCcP"
      }
    },
    {
      "cell_type": "markdown",
      "source": [
        "### Dataset First View"
      ],
      "metadata": {
        "id": "x71ZqKXriCWQ"
      }
    },
    {
      "cell_type": "code",
      "source": [
        "# Dataset First Look\n",
        "df.head()"
      ],
      "metadata": {
        "id": "LWNFOSvLl09H"
      },
      "execution_count": null,
      "outputs": []
    },
    {
      "cell_type": "code",
      "source": [
        "df.tail()"
      ],
      "metadata": {
        "id": "0wvnmMFCMG2f"
      },
      "execution_count": null,
      "outputs": []
    },
    {
      "cell_type": "code",
      "source": [
        "df.shape"
      ],
      "metadata": {
        "id": "aRlCVTsWMR24"
      },
      "execution_count": null,
      "outputs": []
    },
    {
      "cell_type": "markdown",
      "source": [
        "### Dataset Rows & Columns count"
      ],
      "metadata": {
        "id": "7hBIi_osiCS2"
      }
    },
    {
      "cell_type": "code",
      "source": [
        "# Dataset Rows & Columns count\n",
        "print(f'Shape of Telecom Churn Data is {df.shape}')"
      ],
      "metadata": {
        "id": "Kllu7SJgmLij"
      },
      "execution_count": null,
      "outputs": []
    },
    {
      "cell_type": "markdown",
      "source": [
        "**Breakdown of Our Features:**"
      ],
      "metadata": {
        "id": "eLWKNfNkPU1x"
      }
    },
    {
      "cell_type": "markdown",
      "source": [
        "**STATE**: 51 Unique States name\n",
        "\n",
        "**Account Length**: Length of The Account\n",
        "\n",
        "**Area Code**: Code Number of Area having some States\n",
        "\n",
        "**International Plan**: Yes Indicate International Plan is Present and No Indicates no subscription for Internatinal Plan\n",
        "\n",
        "**Voice Mail Plan**: Yes Indicates Voice Mail Plan is Present and No Indicates no subscription for Voice Mail Plan\n",
        "\n",
        "**Number vmail messages**: Number of Voice Mail Messages ranging from 0 to 50\n",
        "\n",
        "**Total day minutes**: Total Number of Minutes Spent in Morning\n",
        "\n",
        "**Total day calls**: Total Number of Calls made in Morning.\n",
        "\n",
        "**Total day charge**: Total Charge to the Customers in Morning.\n",
        "\n",
        "**Total eve minutes**: Total Number of Minutes Spent in Evening\n",
        "\n",
        "**Total eve calls**: Total Number of Calls made r in Evening.\n",
        "\n",
        "**Total eve charge**: Total Charge to the Customers in Morning.\n",
        "\n",
        "**Total night minutes**: Total Number of Minutes Spent in the Night.\n",
        "\n",
        "**Total night calls**: Total Number of Calls made in Night.\n",
        "\n",
        "**Total night charge**: Total Charge to the Customers in Night.\n",
        "\n",
        "Customer service calls Number of customer service calls made by customer\n",
        "\n",
        "Churn Customer Churn, True means churned customer, False means retained customer"
      ],
      "metadata": {
        "id": "gDhaf9IDPXm4"
      }
    },
    {
      "cell_type": "markdown",
      "source": [
        "### Dataset Information"
      ],
      "metadata": {
        "id": "JlHwYmJAmNHm"
      }
    },
    {
      "cell_type": "code",
      "source": [
        "# Dataset Info\n",
        "df.info()"
      ],
      "metadata": {
        "id": "e9hRXRi6meOf"
      },
      "execution_count": null,
      "outputs": []
    },
    {
      "cell_type": "code",
      "source": [
        "df.nunique()"
      ],
      "metadata": {
        "id": "Ubf15xDhQBuw"
      },
      "execution_count": null,
      "outputs": []
    },
    {
      "cell_type": "code",
      "source": [
        "df.describe(include = 'all')"
      ],
      "metadata": {
        "id": "wQFJrVG_QNf-"
      },
      "execution_count": null,
      "outputs": []
    },
    {
      "cell_type": "code",
      "source": [
        "#Printing the count of true and false in 'churn' feature\n",
        "print(df.Churn.value_counts())"
      ],
      "metadata": {
        "id": "LbjzIOBPQb2f"
      },
      "execution_count": null,
      "outputs": []
    },
    {
      "cell_type": "markdown",
      "source": [
        "## ***2. Understanding Your Variables***"
      ],
      "metadata": {
        "id": "IyIvjkOdSW8m"
      }
    },
    {
      "cell_type": "markdown",
      "source": [
        "#### Duplicate Values"
      ],
      "metadata": {
        "id": "35m5QtbWiB9F"
      }
    },
    {
      "cell_type": "code",
      "source": [
        "# Dataset Duplicate Value Count\n",
        "df.isna().sum()\n",
        "\n",
        "#as we see there is no missing values present any column."
      ],
      "metadata": {
        "id": "1sLdpKYkmox0"
      },
      "execution_count": null,
      "outputs": []
    },
    {
      "cell_type": "markdown",
      "source": [
        "#### Missing Values/Null Values"
      ],
      "metadata": {
        "id": "PoPl-ycgm1ru"
      }
    },
    {
      "cell_type": "code",
      "source": [
        "# Missing Values/Null Values Count\n",
        "df.isnull().sum()"
      ],
      "metadata": {
        "id": "GgHWkxvamxVg"
      },
      "execution_count": null,
      "outputs": []
    },
    {
      "cell_type": "code",
      "source": [
        "# Visualizing the missing values\n",
        "missing = pd.DataFrame((df.isnull().sum())*100/df.shape[0]).reset_index()\n",
        "plt.figure(figsize=(16,5))\n",
        "ax = sns.pointplot(x='index',y=0,data=missing)\n",
        "plt.xticks(rotation =90,fontsize =7)\n",
        "plt.title(\"Percentage of Missing values\")\n",
        "plt.ylabel(\"PERCENTAGE\")\n",
        "plt.show()\n"
      ],
      "metadata": {
        "id": "3q5wnI3om9sJ"
      },
      "execution_count": null,
      "outputs": []
    },
    {
      "cell_type": "code",
      "source": [
        "# Checking Duplicate values\n",
        "len(df[df.duplicated()])"
      ],
      "metadata": {
        "id": "0vT9Tb0m9U8T"
      },
      "execution_count": null,
      "outputs": []
    },
    {
      "cell_type": "markdown",
      "source": [
        "### What did you know about your dataset?"
      ],
      "metadata": {
        "id": "H0kj-8xxnORC"
      }
    },
    {
      "cell_type": "markdown",
      "source": [
        "*As of now There are 3333 rows and 20 columns in above dataset.*\n",
        "\n",
        "*out of which there are 1 boolean data type i.e churn*\n",
        "\n",
        "*8 float data type*,\n",
        "\n",
        "*8integer data type,*\n",
        "\n",
        "*3 object data type i.e catagarical value are there.*\n",
        "\n",
        "*There are no missing value present so no need to do the missing value imputation,*\n",
        "\n",
        "*And also there are no duplicate value present.*"
      ],
      "metadata": {
        "id": "gfoNAAC-nUe_"
      }
    },
    {
      "cell_type": "markdown",
      "source": [
        "## 3. ***Data Wrangling***"
      ],
      "metadata": {
        "id": "dauF4eBmngu3"
      }
    },
    {
      "cell_type": "markdown",
      "source": [
        "### Data Wrangling Code"
      ],
      "metadata": {
        "id": "bKJF3rekwFvQ"
      }
    },
    {
      "cell_type": "code",
      "source": [
        "# Write your code to make your dataset analysis ready.\n",
        "df['Churn'].unique()"
      ],
      "metadata": {
        "id": "wk-9a2fpoLcV"
      },
      "execution_count": null,
      "outputs": []
    },
    {
      "cell_type": "code",
      "source": [
        "# Printing the count of true and false in 'churn' feature\n",
        "print(df.Churn.value_counts())"
      ],
      "metadata": {
        "id": "6P1l1rnc-m10"
      },
      "execution_count": null,
      "outputs": []
    },
    {
      "cell_type": "code",
      "source": [
        "# Pie chart to analyze churn\n",
        "df['Churn'].value_counts().plot.pie(explode=[0.05,0.5], autopct='%1.1f%%',  startangle=90,shadow=True, figsize=(8,8))\n",
        "plt.title('Pie Chart for Churn')\n",
        "plt.show()"
      ],
      "metadata": {
        "id": "iFq5-tlD-4nr"
      },
      "execution_count": null,
      "outputs": []
    },
    {
      "cell_type": "code",
      "source": [
        "#Donut plot to analyze churn\n",
        "data = df['Churn'].value_counts()\n",
        "explode = (0,0.2)\n",
        "plt.pie(data, explode = explode,autopct='%1.1f%%',shadow=True,radius = 2.0, labels = ['Not churned customer','Churned customer'],colors=['royalblue' ,'lime'])\n",
        "circle = plt.Circle((0,0),1, color='white')\n",
        "p=plt.gcf()\n",
        "p.gca().add_artist(circle)\n",
        "plt.title('Donut Plot for Churn')\n",
        "plt.show()"
      ],
      "metadata": {
        "id": "l-EevdK8_6_T"
      },
      "execution_count": null,
      "outputs": []
    },
    {
      "cell_type": "code",
      "source": [
        "# let's see churn by using countplot\n",
        "sns.countplot(x=df.Churn)"
      ],
      "metadata": {
        "id": "iTOcLY4xBYV7"
      },
      "execution_count": null,
      "outputs": []
    },
    {
      "cell_type": "markdown",
      "source": [
        "After analyzing the churn column, we had little to say like almost 15% of customers have churned. let's see what other features say to us and what relation we get after correlated with churn"
      ],
      "metadata": {
        "id": "oIHCYN8RCcmb"
      }
    },
    {
      "cell_type": "markdown",
      "source": [
        "**Analyzing State Column**"
      ],
      "metadata": {
        "id": "kRXJc0QsClcz"
      }
    },
    {
      "cell_type": "code",
      "source": [
        "# printing the unique value of state column\n",
        "df['State'].nunique()"
      ],
      "metadata": {
        "id": "1_ov3BRSCrJL"
      },
      "execution_count": null,
      "outputs": []
    },
    {
      "cell_type": "code",
      "source": [
        "# comparison churn with state by using countplot\n",
        "sns.set(style='darkgrid')\n",
        "plt.figure(figsize=(15,8))\n",
        "ax = sns.countplot(x='State', hue='Churn', data=df)\n",
        "plt.show()"
      ],
      "metadata": {
        "id": "_Wj4x6ubDEja"
      },
      "execution_count": null,
      "outputs": []
    },
    {
      "cell_type": "code",
      "source": [
        "s1=df['State'].unique()\n",
        "s2=df.groupby(['State'])['Churn'].mean()\n",
        "plt.rcParams['figure.figsize']=(18,7)\n",
        "plt.plot(s1,s2,color='r', marker='o', linewidth=2, markersize=12)\n",
        "plt.title('States churn rate', fontsize=20)\n",
        "plt.xlabel('state', fontsize=15)\n",
        "plt.ylabel('churn rate', fontsize = 15)\n",
        "plt.show()"
      ],
      "metadata": {
        "id": "vVTbHRkxDyHD"
      },
      "execution_count": null,
      "outputs": []
    },
    {
      "cell_type": "code",
      "source": [
        "plt.rcParams['figure.figsize']=(12,7)\n",
        "color = plt.cm.copper(np.linspace(0,0.5,20))\n",
        "((df.groupby(['State'])['Churn'].mean())*100).sort_values(ascending = False).head(6).plot.bar(color = ['violet','indigo','b','g','y','orange','r'])\n",
        "plt.title('State with most churn percentage', fontsize =20)\n",
        "plt.xlabel('state', fontsize = 15)\n",
        "plt.ylabel('percentage', fontsize = 15)\n",
        "plt.show()"
      ],
      "metadata": {
        "id": "KgwhBZsPFVBk"
      },
      "execution_count": null,
      "outputs": []
    },
    {
      "cell_type": "code",
      "source": [
        "# calculate State VS Churn percentage\n",
        "State_data = pd.crosstab(df['State'],df['Churn'])\n",
        "State_data['Percentage_Churn'] = State_data.apply(lambda x : x[1]*100/(x[0]+x[1]),axis = 1)\n",
        "print(State_data)"
      ],
      "metadata": {
        "id": "BOi2H2ClHYQb"
      },
      "execution_count": null,
      "outputs": []
    },
    {
      "cell_type": "code",
      "source": [
        "#show the most churn state of top 10 by ascending the above list\n",
        "df.groupby(['State'])['Churn'].mean().sort_values(ascending = False).head(10)"
      ],
      "metadata": {
        "id": "MmuZA4V4IEgM"
      },
      "execution_count": null,
      "outputs": []
    },
    {
      "cell_type": "markdown",
      "source": [
        "There is 51 unique state present who have different churn rate.\n",
        "\n",
        "From the above analysis CA, NJ, TX, MD, SC, MI are the ones who have a higher churn rate of more than 21.\n",
        "\n",
        "The reason for this churn rate from a particular state may be due to the low coverage of the cellular network."
      ],
      "metadata": {
        "id": "_VQ_zBd2IqAD"
      }
    },
    {
      "cell_type": "markdown",
      "source": [
        "**Analyzing \"Area Code\" column**"
      ],
      "metadata": {
        "id": "clHXdvalIyP7"
      }
    },
    {
      "cell_type": "code",
      "source": [
        "#claculate Area code vs Churn percentage\n",
        "Area_code_data = pd.crosstab(df[\"Area code\"],df[\"Churn\"])\n",
        "Area_code_data['Percentage_Churn'] = Area_code_data.apply(lambda x : x[1]*100/(x[0]+x[1]),axis = 1)\n",
        "print(Area_code_data)"
      ],
      "metadata": {
        "id": "uPiaecJPI9N7"
      },
      "execution_count": null,
      "outputs": []
    },
    {
      "cell_type": "code",
      "source": [
        "sns.set(style=\"darkgrid\")\n",
        "ax = sns.countplot(x='Area code', hue=\"Churn\", data=df)\n",
        "plt.show()"
      ],
      "metadata": {
        "id": "zRVCxzrlNG2z"
      },
      "execution_count": null,
      "outputs": []
    },
    {
      "cell_type": "markdown",
      "source": [
        "In the above data, we notice that there is only 3 unique value are there i.e408,415,510 and the churn rate of these area codes are almost same.\n",
        "\n",
        "we don't think there is any kind of relation present between the \"area code\" and\"churn\" due to which the customer leaves the operator."
      ],
      "metadata": {
        "id": "yt3x-X9DNNaM"
      }
    },
    {
      "cell_type": "markdown",
      "source": [
        "**Analyzing \"Account Length\" column**"
      ],
      "metadata": {
        "id": "4RLHdOXMNSqy"
      }
    },
    {
      "cell_type": "code",
      "source": [
        "#Separating churn and non churn customers\n",
        "churn_df     = df[df[\"Churn\"] == bool(True)]\n",
        "not_churn_df = df[df[\"Churn\"] == bool(False)]"
      ],
      "metadata": {
        "id": "IlfqrFY8NXeU"
      },
      "execution_count": null,
      "outputs": []
    },
    {
      "cell_type": "code",
      "source": [
        "#Account length vs Churn\n",
        "sns.distplot(df['Account length'])"
      ],
      "metadata": {
        "id": "j9k_JL7MNgi8"
      },
      "execution_count": null,
      "outputs": []
    },
    {
      "cell_type": "code",
      "source": [
        "#comparison of churned account length and not churned account length\n",
        "sns.distplot(df['Account length'],color = 'yellow',label=\"All\")\n",
        "sns.distplot(churn_df['Account length'],color = \"red\",hist=False,label=\"Churned\")\n",
        "sns.distplot(not_churn_df['Account length'],color = 'green',hist= False,label=\"Not churned\")\n",
        "plt.legend()"
      ],
      "metadata": {
        "id": "Oo-LewhPNoj7"
      },
      "execution_count": null,
      "outputs": []
    },
    {
      "cell_type": "markdown",
      "source": [
        "After analyzing various aspects of the \"account length\" column we didn't found any useful relation to churn. so we aren't able to build any connection to the churn as of now. let's see what other features say about the churn."
      ],
      "metadata": {
        "id": "gRpx7xJFOCo5"
      }
    },
    {
      "cell_type": "markdown",
      "source": [
        "**Analyzing \"International Plan\" column**"
      ],
      "metadata": {
        "id": "C-2BwgFROGuq"
      }
    },
    {
      "cell_type": "code",
      "source": [
        "#Show count value of 'yes','no'\n",
        "df['International plan'].value_counts()"
      ],
      "metadata": {
        "id": "W9SuCNGAOM60"
      },
      "execution_count": null,
      "outputs": []
    },
    {
      "cell_type": "code",
      "source": [
        "#Show the unique data of \"International plan\"\n",
        "df[\"International plan\"].unique()"
      ],
      "metadata": {
        "id": "yR8HE8OxOXCV"
      },
      "execution_count": null,
      "outputs": []
    },
    {
      "cell_type": "code",
      "source": [
        "#Calculate the International Plan vs Churn percentage\n",
        "International_plan_data = pd.crosstab(df[\"International plan\"],df[\"Churn\"])\n",
        "International_plan_data['Percentage Churn'] = International_plan_data.apply(lambda x : x[1]*100/(x[0]+x[1]),axis = 1)\n",
        "print(International_plan_data)"
      ],
      "metadata": {
        "id": "MfNedRPGOc8l"
      },
      "execution_count": null,
      "outputs": []
    },
    {
      "cell_type": "code",
      "source": [
        "#To get the Donut Plot to analyze International Plan\n",
        "data = df['International plan'].value_counts()\n",
        "explode = (0, 0.2)\n",
        "plt.pie(data, explode = explode,autopct='%1.1f%%',shadow=True,radius = 2.0, labels = ['No','Yes'],colors=['skyblue' ,'orange'])\n",
        "circle = plt.Circle( (0,0), 1, color='white')\n",
        "p=plt.gcf()\n",
        "p.gca().add_artist(circle)\n",
        "plt.title('Donut Plot for International plan')\n",
        "plt.show()"
      ],
      "metadata": {
        "id": "V-LxaPOkOpwG"
      },
      "execution_count": null,
      "outputs": []
    },
    {
      "cell_type": "code",
      "source": [
        "#Analysing by using countplot\n",
        "sns.countplot(x='International plan',hue=\"Churn\",data = df)"
      ],
      "metadata": {
        "id": "fCazruPzOxl0"
      },
      "execution_count": null,
      "outputs": []
    },
    {
      "cell_type": "markdown",
      "source": [
        "There are 3010 customers who dont have a international plan.\n",
        "\n",
        "There are 323 customers who have a international plan.\n",
        "\n",
        "Among those who have a international plan 42.4 % people churn.\n",
        "\n",
        "Whereas among those who dont have a international plan only 11.4 % people churn.\n",
        "\n",
        "So basically the people who bought International plans are churning in big numbers.\n",
        "\n",
        "Probably because of connectivity issues or high call charge."
      ],
      "metadata": {
        "id": "U3mpQD0pO5aX"
      }
    },
    {
      "cell_type": "markdown",
      "source": [
        "**Analyzing \"Voice Mail Plan\" column**"
      ],
      "metadata": {
        "id": "-mmvSSDuPC3-"
      }
    },
    {
      "cell_type": "code",
      "source": [
        "#show the unique value of the \"Voice mail plan\" column\n",
        "df[\"Voice mail plan\"].unique()"
      ],
      "metadata": {
        "id": "5JMROa7ZPJet"
      },
      "execution_count": null,
      "outputs": []
    },
    {
      "cell_type": "code",
      "source": [
        "#Calculate the Voice Mail Plan vs Churn percentage\n",
        "Voice_mail_plan_data = pd.crosstab(df[\"Voice mail plan\"],df[\"Churn\"])\n",
        "Voice_mail_plan_data['Percentage Churn'] = Voice_mail_plan_data.apply(lambda x : x[1]*100/(x[0]+x[1]),axis = 1)\n",
        "print(Voice_mail_plan_data)"
      ],
      "metadata": {
        "id": "II6V5VAJVuKZ"
      },
      "execution_count": null,
      "outputs": []
    },
    {
      "cell_type": "code",
      "source": [
        "#To get the Donut Plot to analyze Voice mail plan\n",
        "data = df['Voice mail plan'].value_counts()\n",
        "explode = (0, 0.2)\n",
        "plt.pie(data, explode = explode,autopct='%1.1f%%',startangle=90,shadow=True,radius = 2.0, labels = ['NO','YES'],colors=['skyblue','red'])\n",
        "circle = plt.Circle( (0,0), 1, color='white')\n",
        "p=plt.gcf()\n",
        "p.gca().add_artist(circle)\n",
        "plt.title('Donut Plot for Voice mail plan')\n",
        "plt.show()"
      ],
      "metadata": {
        "id": "vWxs5GNjV3TX"
      },
      "execution_count": null,
      "outputs": []
    },
    {
      "cell_type": "code",
      "source": [
        "#Analysing by using countplot\n",
        "sns.countplot(x='Voice mail plan',hue=\"Churn\",data = df)"
      ],
      "metadata": {
        "id": "3YkId23FV-yn"
      },
      "execution_count": null,
      "outputs": []
    },
    {
      "cell_type": "markdown",
      "source": [
        "As we can see there is are no clear relation between voice mail plan and churn so we can't clearly say anything so let's move to the next voice mail feature i.e number of voice mail, let's see what it gives to us."
      ],
      "metadata": {
        "id": "9LsdeZoeWJkZ"
      }
    },
    {
      "cell_type": "markdown",
      "source": [
        "**Analyzing \"Number vmail messages\" column**"
      ],
      "metadata": {
        "id": "IXRO4HgjWQg5"
      }
    },
    {
      "cell_type": "code",
      "source": [
        "#show the data of 'Number vmail messages'\n",
        "df['Number vmail messages'].unique()"
      ],
      "metadata": {
        "id": "tsaagLKlWHC_"
      },
      "execution_count": null,
      "outputs": []
    },
    {
      "cell_type": "code",
      "source": [
        "#Printing the data of 'Number vmail messages'\n",
        "df['Number vmail messages'].value_counts()"
      ],
      "metadata": {
        "id": "Xu2MB2bNWgTf"
      },
      "execution_count": null,
      "outputs": []
    },
    {
      "cell_type": "code",
      "source": [
        "#Show the details of 'Number vmail messages' data\n",
        "df['Number vmail messages'].describe()"
      ],
      "metadata": {
        "id": "7Rx0wwPqWmZo"
      },
      "execution_count": null,
      "outputs": []
    },
    {
      "cell_type": "code",
      "source": [
        "#Analysing by using displot diagram\n",
        "sns.distplot(df['Number vmail messages'])"
      ],
      "metadata": {
        "id": "bokfyheYWuBQ"
      },
      "execution_count": null,
      "outputs": []
    },
    {
      "cell_type": "code",
      "source": [
        "#Analysing by using boxplot diagram between 'number vmail messages' and 'churn'\n",
        "fig = plt.figure(figsize =(10, 8))\n",
        "df.boxplot(column='Number vmail messages', by='Churn')\n",
        "fig.suptitle('Number vmail message', fontsize=14, fontweight='bold')\n",
        "plt.show()"
      ],
      "metadata": {
        "id": "5yC6N2l6Wxpn"
      },
      "execution_count": null,
      "outputs": []
    },
    {
      "cell_type": "markdown",
      "source": [
        "After analyzing the above voice mail feature data we get an insight that when there are more than 20 voice-mail messages then there is a churn\n",
        "\n",
        "For that, we need to improve the voice mail quality."
      ],
      "metadata": {
        "id": "NUyCJsJWWOwy"
      }
    },
    {
      "cell_type": "markdown",
      "source": [
        "**Analyzing \"Customer service calls\" column**"
      ],
      "metadata": {
        "id": "gvUtethlXCzH"
      }
    },
    {
      "cell_type": "code",
      "source": [
        "#Printing the data of customer service calls\n",
        "df['Customer service calls'].value_counts()"
      ],
      "metadata": {
        "id": "NRMHmjrlXAzi"
      },
      "execution_count": null,
      "outputs": []
    },
    {
      "cell_type": "code",
      "source": [
        "#Calculating the Customer service calls vs Churn percentage\n",
        "Customer_service_calls_data = pd.crosstab(df['Customer service calls'],df[\"Churn\"])\n",
        "Customer_service_calls_data['Percentage_Churn'] = Customer_service_calls_data.apply(lambda x : x[1]*100/(x[0]+x[1]),axis = 1)\n",
        "print(Customer_service_calls_data)"
      ],
      "metadata": {
        "id": "tU5I172sXNDW"
      },
      "execution_count": null,
      "outputs": []
    },
    {
      "cell_type": "code",
      "source": [
        "#Analysing using countplot\n",
        "sns.countplot(x='Customer service calls',hue=\"Churn\",data = df)"
      ],
      "metadata": {
        "id": "uMjI7i4DXT5v"
      },
      "execution_count": null,
      "outputs": []
    },
    {
      "cell_type": "markdown",
      "source": [
        "It is observed from the above analysis that, mostly because of bad customer service, people tend to leave the operator.\n",
        "\n",
        "The above data indicating that those customers who called the service center 5 times or above those customer churn percentage is higher than 60%,\n",
        "\n",
        "And customers who have called once also have a high churn rate indicating their issue was not solved in the first attempt.\n",
        "\n",
        "So operator should work to improve the service call."
      ],
      "metadata": {
        "id": "QMK0472NXcH3"
      }
    },
    {
      "cell_type": "markdown",
      "source": [
        "**Analyzing all calls minutes,all calls, all calls charge together**\n",
        "\n"
      ],
      "metadata": {
        "id": "1bJx6QIOXksX"
      }
    },
    {
      "cell_type": "markdown",
      "source": [
        "As these data sets are numerical data type, so for analysing with the 'churn' which is a catagorical data set, We are using mean, median, and box plots."
      ],
      "metadata": {
        "id": "yGC9oFGYXz5Y"
      }
    },
    {
      "cell_type": "code",
      "source": [
        "#Print the mean value of churned and not churned customer\n",
        "print(df.groupby([\"Churn\"])['Total day calls'].mean())"
      ],
      "metadata": {
        "id": "u3Oot3G0X1N5"
      },
      "execution_count": null,
      "outputs": []
    },
    {
      "cell_type": "code",
      "source": [
        "#Print the mean value of churned and not churned customer\n",
        "print(df.groupby([\"Churn\"])['Total day minutes'].mean())"
      ],
      "metadata": {
        "id": "Fb9DbreeX7Xn"
      },
      "execution_count": null,
      "outputs": []
    },
    {
      "cell_type": "code",
      "source": [
        "#Print the mean value of churned and not churned customer\n",
        "print(df.groupby([\"Churn\"])['Total day charge'].mean())"
      ],
      "metadata": {
        "id": "6tPB8H_5YALo"
      },
      "execution_count": null,
      "outputs": []
    },
    {
      "cell_type": "code",
      "source": [
        "#show the relation using scatter plot\n",
        "sns.scatterplot(x=\"Total day minutes\", y=\"Total day charge\", hue=\"Churn\", data=df,palette='hls')"
      ],
      "metadata": {
        "id": "PpOeD_h2YE2n"
      },
      "execution_count": null,
      "outputs": []
    },
    {
      "cell_type": "code",
      "source": [
        "#show the relation using box plot plot\n",
        "sns.boxplot(x='Total day minutes', y='Total eve charge', hue='Churn', data= df, palette='hls')"
      ],
      "metadata": {
        "id": "RGYP4DZfYLPH"
      },
      "execution_count": null,
      "outputs": []
    },
    {
      "cell_type": "code",
      "source": [
        "#Print the mean value of churned and not churned customer\n",
        "print(df.groupby(['Churn'])['Total eve calls'].mean())"
      ],
      "metadata": {
        "id": "lD6ceem7Yf4G"
      },
      "execution_count": null,
      "outputs": []
    },
    {
      "cell_type": "code",
      "source": [
        "#Print the mean value of churned and not churned customer\n",
        "print(df.groupby([\"Churn\"])['Total eve minutes'].mean())"
      ],
      "metadata": {
        "id": "Imc8wVuXa2s9"
      },
      "execution_count": null,
      "outputs": []
    },
    {
      "cell_type": "code",
      "source": [
        "#Print the mean value of churned and not churned customer\n",
        "print(df.groupby(['Churn'])['Total eve charge'].mean())"
      ],
      "metadata": {
        "id": "FDq9vTnKa_gm"
      },
      "execution_count": null,
      "outputs": []
    },
    {
      "cell_type": "code",
      "source": [
        "#show the relation using scatter plot\n",
        "sns.scatterplot(x=\"Total eve minutes\", y=\"Total eve charge\", hue=\"Churn\", data=df,palette='hls')"
      ],
      "metadata": {
        "id": "sgbO0xZGbHu-"
      },
      "execution_count": null,
      "outputs": []
    },
    {
      "cell_type": "code",
      "source": [
        "#show the relation using box plot plot\n",
        "sns.boxplot(x=\"Total eve minutes\", y=\"Total eve charge\", hue=\"Churn\", data=df,palette='hls')"
      ],
      "metadata": {
        "id": "rf3guggPbQbG"
      },
      "execution_count": null,
      "outputs": []
    },
    {
      "cell_type": "code",
      "source": [
        "#Print the mean value of churned and not churned customer\n",
        "print(df.groupby([\"Churn\"])['Total night calls'].mean())"
      ],
      "metadata": {
        "id": "0dlmGOWybjbm"
      },
      "execution_count": null,
      "outputs": []
    },
    {
      "cell_type": "code",
      "source": [
        "#Print the mean value of churned and not churned customer\n",
        "print(df.groupby([\"Churn\"])['Total night charge'].mean())"
      ],
      "metadata": {
        "id": "Vn08a76Ubn4e"
      },
      "execution_count": null,
      "outputs": []
    },
    {
      "cell_type": "code",
      "source": [
        "#Print the mean value of churned and not churned customer\n",
        "print(df.groupby([\"Churn\"])['Total night minutes'].mean())"
      ],
      "metadata": {
        "id": "bE0MBvYHbsW-"
      },
      "execution_count": null,
      "outputs": []
    },
    {
      "cell_type": "code",
      "source": [
        "#show the relation using scatter plot\n",
        "sns.scatterplot(x=\"Total night minutes\", y=\"Total night charge\", hue=\"Churn\", data=df,palette='hls')"
      ],
      "metadata": {
        "id": "N8XK237Fbu4e"
      },
      "execution_count": null,
      "outputs": []
    },
    {
      "cell_type": "code",
      "source": [
        "#show the relation using box plot\n",
        "sns.boxplot(x=\"Total night minutes\", y=\"Total night charge\", hue=\"Churn\", data=df,palette='hls')"
      ],
      "metadata": {
        "id": "3o0jfQENb5Cl"
      },
      "execution_count": null,
      "outputs": []
    },
    {
      "cell_type": "code",
      "source": [
        "#Print the mean value of churned and not churned customer\n",
        "print(df.groupby([\"Churn\"])['Total intl minutes'].mean())"
      ],
      "metadata": {
        "id": "_eBV9ySKb7s1"
      },
      "execution_count": null,
      "outputs": []
    },
    {
      "cell_type": "code",
      "source": [
        "#Print the mean value of churned and not churned customer\n",
        "print(df.groupby([\"Churn\"])['Total intl minutes'].mean())"
      ],
      "metadata": {
        "id": "bf44xAqFcEFt"
      },
      "execution_count": null,
      "outputs": []
    },
    {
      "cell_type": "code",
      "source": [
        "#Print the mean value of churned and not churned customer\n",
        "print(df.groupby([\"Churn\"])['Total intl minutes'].mean())"
      ],
      "metadata": {
        "id": "fgsP3jqKcGn2"
      },
      "execution_count": null,
      "outputs": []
    },
    {
      "cell_type": "code",
      "source": [
        "#show the relation using scatter plot\n",
        "sns.scatterplot(x=\"Total intl minutes\", y=\"Total intl charge\", hue=\"Churn\", data=df,palette='hls')"
      ],
      "metadata": {
        "id": "fCqWsrfQcOwW"
      },
      "execution_count": null,
      "outputs": []
    },
    {
      "cell_type": "code",
      "source": [
        "#show the relation using box plot\n",
        "sns.boxplot(x=\"Total intl minutes\", y=\"Total intl charge\", hue=\"Churn\", data=df,palette='hls')"
      ],
      "metadata": {
        "id": "6Z07e9jbcSiN"
      },
      "execution_count": null,
      "outputs": []
    },
    {
      "cell_type": "code",
      "source": [
        "#Deriving a relation between overall call charge and overall call minutes\n",
        "day_charge_perm = df['Total day charge'].mean()/df['Total day minutes'].mean()\n",
        "eve_charge_perm = df['Total eve charge'].mean()/df['Total eve minutes'].mean()\n",
        "night_charge_perm = df['Total night charge'].mean()/df['Total night minutes'].mean()\n",
        "int_charge_perm= df['Total intl charge'].mean()/df['Total intl minutes'].mean()"
      ],
      "metadata": {
        "id": "sNHXKFOncXI2"
      },
      "execution_count": null,
      "outputs": []
    },
    {
      "cell_type": "code",
      "source": [
        "print([day_charge_perm,eve_charge_perm,night_charge_perm,int_charge_perm])"
      ],
      "metadata": {
        "id": "W0vxsyicclzm"
      },
      "execution_count": null,
      "outputs": []
    },
    {
      "cell_type": "code",
      "source": [
        "sns.barplot(x=['Day','Evening','Night','International'],y=[day_charge_perm,eve_charge_perm,night_charge_perm,int_charge_perm])"
      ],
      "metadata": {
        "id": "XW9U0aXKcpQf"
      },
      "execution_count": null,
      "outputs": []
    },
    {
      "cell_type": "markdown",
      "source": [
        "After analyzing the above dataset we have noticed that total day/night/eve minutes/call/charges are not put any kind of cause for churn rate. But international call charges are high as compare to others it's an obvious thing but that may be a cause for international plan customers to churn out."
      ],
      "metadata": {
        "id": "HJphSN5qcstQ"
      }
    },
    {
      "cell_type": "markdown",
      "source": [
        "#**Graphical Analysis**"
      ],
      "metadata": {
        "id": "mZFkIDeNcwym"
      }
    },
    {
      "cell_type": "markdown",
      "source": [
        "**UNIVARIATE ANALYSIS**"
      ],
      "metadata": {
        "id": "3ZBgRvowdJDm"
      }
    },
    {
      "cell_type": "markdown",
      "source": [
        "In Univariate Analysis we analyze data over a single column from the numerical dataset, for this we use 3 types of plot which are box plot, strip plot, dis plot."
      ],
      "metadata": {
        "id": "9wV1n_pndRDO"
      }
    },
    {
      "cell_type": "code",
      "source": [
        "#Printing boxplot for each numerical column present in the data set\n",
        "df1=df.select_dtypes(exclude=['object','bool'])\n",
        "for column in df1:\n",
        "        plt.figure(figsize=(17,1))\n",
        "        sns.boxplot(data=df1, x=column)\n",
        "plt.show()"
      ],
      "metadata": {
        "id": "y1JiQ7ATdPju"
      },
      "execution_count": null,
      "outputs": []
    },
    {
      "cell_type": "code",
      "source": [
        "#Printing displot for each numerical column present in the data set\n",
        "df1=df.select_dtypes(exclude=['object','bool'])\n",
        "for column in df1:\n",
        "        plt.figure(figsize=(17,1))\n",
        "        sns.displot(data=df1, x=column)\n",
        "plt.show()"
      ],
      "metadata": {
        "id": "eROCAIGmeZFu"
      },
      "execution_count": null,
      "outputs": []
    },
    {
      "cell_type": "code",
      "source": [
        "#Printing strip plot for each numerical column present in the data set\n",
        "df1=df.select_dtypes(exclude=['object','bool'])\n",
        "for column in df1:\n",
        "        plt.figure(figsize=(17,1))\n",
        "        sns.stripplot(data=df1, x=column)\n",
        "plt.show()"
      ],
      "metadata": {
        "id": "p1tdBfCreqyG"
      },
      "execution_count": null,
      "outputs": []
    },
    {
      "cell_type": "markdown",
      "source": [
        "**BIVARIATE ANALYSIS**"
      ],
      "metadata": {
        "id": "JSpoGuM1fMpf"
      }
    },
    {
      "cell_type": "markdown",
      "source": [
        "In Bivariate Analysis we analyze data by taking two columns into consideration from a dataset, here we only take numerical data type column, for this visualization we use **Box plot,scatter plot**"
      ],
      "metadata": {
        "id": "-kLI5QXmfTNO"
      }
    },
    {
      "cell_type": "code",
      "source": [
        "# Plot a boxplot for churn column  by each numerical feature present in the data set\n",
        "df2= df.describe().columns\n",
        "for col in df2:\n",
        "  fig=plt.figure(figsize=(17,3))\n",
        "  ax=fig.gca()\n",
        "  feature=df[col]\n",
        "  label=df['Churn']\n",
        "  correlation= feature.corr(label)\n",
        "  plt.scatter(x=feature,y=label)\n",
        "  plt.xlabel(col)\n",
        "  plt.ylabel('Churn')\n",
        "plt.show()"
      ],
      "metadata": {
        "id": "1JqgsjyzfJ9H"
      },
      "execution_count": null,
      "outputs": []
    },
    {
      "cell_type": "code",
      "source": [
        "#Plot the box plot for churn vs all numerical column\n",
        "for col in df2:\n",
        "  fig=plt.figure(figsize=(17,10))\n",
        "  ax=fig.gca()\n",
        "  #feature=df[col]\n",
        "  #label=df['Churn']\n",
        "  df.boxplot(column = 'Churn', by = col, ax = ax)\n",
        "  plt.xlabel(col)\n",
        "  plt.ylabel('Churn')\n",
        "plt.show()"
      ],
      "metadata": {
        "id": "M9Ohqt05frhW"
      },
      "execution_count": null,
      "outputs": []
    },
    {
      "cell_type": "markdown",
      "source": [
        "**Multivariate Analysis**"
      ],
      "metadata": {
        "id": "CR1LV4TygisV"
      }
    },
    {
      "cell_type": "markdown",
      "source": [
        "In Multivariate Analysis we analyze data by taking more than two columns into consideration from a dataset,for this we using **correlation plot,correlation matrix, correletaion heatmap, pair plot**."
      ],
      "metadata": {
        "id": "O9SiRrdvgmTt"
      }
    },
    {
      "cell_type": "code",
      "source": [
        "# visualization using correlation plot\n",
        "plt.figure(figsize=(19,8))\n",
        "df.corr()['Churn'].sort_values(ascending = False).plot(kind='bar',color = ['red','blue','yellow','indigo','orange','brown','pink'])"
      ],
      "metadata": {
        "id": "4mcd0ILKgded"
      },
      "execution_count": null,
      "outputs": []
    },
    {
      "cell_type": "code",
      "source": [
        "## plot the Correlation matrix\n",
        "plt.figure(figsize=(17,8))\n",
        "correlation=df.corr()\n",
        "sns.heatmap(abs(correlation), annot=True, cmap='coolwarm')"
      ],
      "metadata": {
        "id": "ubb_uUkjgxK2"
      },
      "execution_count": null,
      "outputs": []
    },
    {
      "cell_type": "code",
      "source": [
        "#create a correlation heatmap\n",
        "#Assigning true=1 and False=0 to churn variable\n",
        "df['Churn'] = df['Churn'].replace({bool(True):1,bool(False):0})\n",
        "plt.figure(figsize=(17,9))\n",
        "sns.heatmap(df.corr(), cmap=\"Paired\",annot=False)\n",
        "plt.title(\"Correlation Heatmap\", fontsize=20)"
      ],
      "metadata": {
        "id": "Xa-AcMyKg03P"
      },
      "execution_count": null,
      "outputs": []
    },
    {
      "cell_type": "code",
      "source": [
        "#plot the pair plot for all coloumn\n",
        "sns.pairplot(df, height=3)"
      ],
      "metadata": {
        "id": "kM7GKlu5g3SP"
      },
      "execution_count": null,
      "outputs": []
    },
    {
      "cell_type": "markdown",
      "source": [
        "# **Conclusion**"
      ],
      "metadata": {
        "id": "gCX9965dhzqZ"
      }
    },
    {
      "cell_type": "markdown",
      "source": [
        "After performing exploratory data analysis on the data set, this is what we have incurred from data:\n",
        "\n",
        "There are some states where the churn rate is high as compared to others may be due to low network coverage.\n",
        "\n",
        "**Area code and Account length do not play any kind of role regarding the churn rate so,it's redundant data columns**.\n",
        "\n",
        "In the International plan those customers who have this plan are churn more and also the international calling charges are also high so the customer who has the plan unsatisfied with network issues and high call charge* **IN the voice mail section when there are more than 20 voice-mail messages then there is a churn so it basically means that the quality of voice mail is not good. *Total day call minutes, total day calls, Total day charge, Total eve minutes, Total eve calls, Total eve charge, Total night minutes, Total night calls, Total night charge, these columns didn't play any kind of role regarding the churn rate.* **In international calls data shows that the churn rate of those customers is high, those who take the international plan so it means that in international call charges are high also there is a call drop or network issue.* **In Customer service calls data shows us that whenever an unsatisfied customer called the service center the churn rate is high, which means the service center didn't resolve the customer issue.*Write the conclusion here."
      ],
      "metadata": {
        "id": "Fjb1IsQkh3yE"
      }
    },
    {
      "cell_type": "markdown",
      "source": [
        "### ***Hurrah! You have successfully completed your EDA Capstone Project !!!***"
      ],
      "metadata": {
        "id": "gIfDvo9L0UH2"
      }
    }
  ]
}